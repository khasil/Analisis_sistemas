{
 "cells": [
  {
   "cell_type": "markdown",
   "metadata": {},
   "source": [
    "## workshop I- systems analysis\n",
    "\n",
    "1.create dummy database\n",
    "\n"
   ]
  },
  {
   "cell_type": "code",
   "execution_count": 45,
   "metadata": {},
   "outputs": [],
   "source": [
    "import random\n",
    "\n",
    "from collections import Counter\n",
    "def create_sequence():\n",
    "    nucleotid_bases = ['A','C','G','T']\n",
    "    size_sequence = random.randint(10,20)\n",
    "    new_sequence = [ nucleotid_bases[random.randint(0,3)] for i in range(size_sequence)]\n",
    "    return \"\".join(new_sequence)\n"
   ]
  },
  {
   "cell_type": "code",
   "execution_count": 41,
   "metadata": {},
   "outputs": [],
   "source": [
    "def create_database():\n",
    "    db_size=50000\n",
    "    data_base = [create_sequence () for i in range (db_size)]   #secuencia que mas se repite  motifs\n",
    "    return data_base"
   ]
  },
  {
   "cell_type": "code",
   "execution_count": 63,
   "metadata": {},
   "outputs": [],
   "source": [
    "import math\n",
    "def get_combinations ( n, sequence, bases):    # recursividad para combinaciones\n",
    "    if n==1:\n",
    "        return [ sequence+bases[i] for sequence in sequence for i in range (len (bases))]\n",
    "    else:\n",
    "        sequence_= [sequence+bases[i] for sequence in sequence for i in range (len(bases))]\n",
    "        return get_combinations(n-1 , sequence_, bases)\n",
    "\n",
    "def count_motif (motif, sequences_db):   #contador de motif\n",
    "    count =0\n",
    "    for sequence in sequences_db:\n",
    "        count += sequence.count (motif)\n",
    "    return count\n",
    "    \n",
    "\n",
    "def get_motif(motif_size , sequences_db):  #combinaciones en una funcion, y probar las combinaciones, la ganadora se retorna\n",
    "    nucleotid_bases= ['A','C','G','T']\n",
    "    combinations = get_combinations ( motif_size, [\"\"], nucleotid_bases)\n",
    "    max_counter =0\n",
    "    motif_winner=\"\"\n",
    "    for motif_candidate in combinations:\n",
    "        temp_counter = count_motif ( motif_candidate, sequences_db)\n",
    "        if temp_counter >max_counter:\n",
    "            max_counter = temp_counter\n",
    "            motif_winner = motif_candidate\n",
    "    return motif_winner , max_counter\n",
    "\n",
    "\n",
    "\n"
   ]
  },
  {
   "cell_type": "code",
   "execution_count": 62,
   "metadata": {},
   "outputs": [],
   "source": [
    "def calculate_shannon_entropy(data_base):\n",
    "    # Concatenar todas las secuencias en una sola cadena\n",
    "    all_sequences = \"\".join(data_base)\n",
    "    # Contar la frecuencia de cada símbolo en la secuencia completa\n",
    "    symbol_counts = Counter(all_sequences)\n",
    "    sequence_length = len(all_sequences)\n",
    "    # Probabilidad de cada simbolo\n",
    "    probabilities = [count / sequence_length for count in symbol_counts.values()]\n",
    "    # Calcular la Entropía de Shannon\n",
    "    entropy = -sum(p * math.log2(p) for p in probabilities if p != 0)\n",
    "    return entropy"
   ]
  },
  {
   "cell_type": "code",
   "execution_count": null,
   "metadata": {},
   "outputs": [],
   "source": [
    "\n",
    "for size in [6, 8]:\n",
    "    print(f\"\\nArter filter, motifs of size: {size}\")\n",
    "    for i in range(10):\n",
    "       \n",
    "        dataset = create_database()\n",
    "        dataset = list(filter(filter_shannon, dataset))\n",
    "        print(f\"Dataset size: {len(dataset)}, Motif: {get_motif(size, dataset)}\")"
   ]
  },
  {
   "cell_type": "code",
   "execution_count": 66,
   "metadata": {},
   "outputs": [],
   "source": [
    "\n",
    "def filter_shannon(sequence: str) -> bool:\n",
    "    \"\"\"\n",
    "    This function is used to filter genetic sequences based on their Shannon Entropy.\n",
    "\n",
    "    Parameters:\n",
    "    - sequence (str): genetic sequence.\n",
    "\n",
    "    Returns:\n",
    "    - bool: True if the sequence passes the filter, False otherwise.\n",
    "    \"\"\"\n",
    "    # Obtener el motif y su frecuencia máxima en la secuencia\n",
    "    motif, max_motif_freq = get_motif(6, create_database())\n",
    "    entropy = calculate_shannon_entropy(sequence)   # Calcular la entropia de Shannon de la secuencia\n",
    "    \n",
    "    # Definir los umbrales para filtrar las secuencias\n",
    "    motif_freq_threshold = 500   # la frecuancia del motif es de 500 ( 1% del tamaño de la muestra)\n",
    "    entropy_threshold = 2.5 #entropia de 2.5bits indicaria una diversidad en los datos.\n",
    "    \n",
    "    if max_motif_freq >= motif_freq_threshold and entropy >= entropy_threshold:  # Verificar si la secuencia pasa el filtro\n",
    "        return True\n",
    "    else:\n",
    "        return False"
   ]
  },
  {
   "cell_type": "code",
   "execution_count": 67,
   "metadata": {},
   "outputs": [
    {
     "name": "stdout",
     "output_type": "stream",
     "text": [
      "1.9999993642415137\n"
     ]
    }
   ],
   "source": [
    "print (calculate_shannon_entropy(create_database()))"
   ]
  }
 ],
 "metadata": {
  "kernelspec": {
   "display_name": "Python 3",
   "language": "python",
   "name": "python3"
  },
  "language_info": {
   "codemirror_mode": {
    "name": "ipython",
    "version": 3
   },
   "file_extension": ".py",
   "mimetype": "text/x-python",
   "name": "python",
   "nbconvert_exporter": "python",
   "pygments_lexer": "ipython3",
   "version": "3.11.8"
  }
 },
 "nbformat": 4,
 "nbformat_minor": 2
}
